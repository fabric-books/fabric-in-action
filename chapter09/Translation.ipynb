{
 "cells": [
  {
   "cell_type": "markdown",
   "id": "2d5ba8de-4d89-484a-9a75-2e82f3286d17",
   "metadata": {
    "nteract": {
     "transient": {
      "deleting": false
     }
    }
   },
   "source": [
    "# Translating a semantic model"
   ]
  },
  {
   "cell_type": "markdown",
   "id": "92e2d78d-2087-4128-bfe3-f572fab9a8cc",
   "metadata": {
    "nteract": {
     "transient": {
      "deleting": false
     }
    }
   },
   "source": [
    "## Installing the library\n",
    "https://pypi.org/project/semantic-link-labs/"
   ]
  },
  {
   "cell_type": "code",
   "execution_count": null,
   "id": "ab158a21-4602-43d6-bb23-0078db8e019f",
   "metadata": {
    "jupyter": {
     "outputs_hidden": true,
     "source_hidden": false
    },
    "microsoft": {
     "language": "python",
     "language_group": "synapse_pyspark"
    },
    "nteract": {
     "transient": {
      "deleting": false
     }
    }
   },
   "outputs": [],
   "source": [
    "%pip install semantic-link-labs"
   ]
  },
  {
   "cell_type": "markdown",
   "id": "44b9d5b5-db5d-4e56-b1ab-96393f7d82cb",
   "metadata": {
    "nteract": {
     "transient": {
      "deleting": false
     }
    }
   },
   "source": [
    "## Connection to the semantic model"
   ]
  },
  {
   "cell_type": "code",
   "execution_count": null,
   "id": "715c7d20-047c-430d-943b-72079912615a",
   "metadata": {
    "jupyter": {
     "outputs_hidden": false,
     "source_hidden": false
    },
    "microsoft": {
     "language": "python",
     "language_group": "synapse_pyspark"
    },
    "nteract": {
     "transient": {
      "deleting": false
     }
    }
   },
   "outputs": [],
   "source": [
    "import sempy_labs as labs\n",
    "from sempy_labs.tom import connect_semantic_model\n",
    "dataset = 'Regional Sales Sample'   # Report Name\n",
    "workspace = 'Global Analysis'       # Workspace Name\n",
    "with connect_semantic_model(dataset=dataset, readonly=True, workspace=workspace) as tom:\n",
    "    for t in tom.model.Tables:\n",
    "        print(t.Name)"
   ]
  },
  {
   "cell_type": "markdown",
   "id": "479f598f-139e-4c24-92e8-9596a353f5f7",
   "metadata": {
    "nteract": {
     "transient": {
      "deleting": false
     }
    }
   },
   "source": [
    "## Adding a translation to the semantic model\n",
    "XMLA Endpoint Read & Write requis"
   ]
  },
  {
   "cell_type": "code",
   "execution_count": null,
   "id": "5dfd5cfb-ba51-4266-8c35-afc6df94c86c",
   "metadata": {
    "jupyter": {
     "outputs_hidden": false,
     "source_hidden": false
    },
    "microsoft": {
     "language": "python",
     "language_group": "synapse_pyspark"
    },
    "nteract": {
     "transient": {
      "deleting": false
     }
    }
   },
   "outputs": [],
   "source": [
    "with connect_semantic_model(dataset=dataset, readonly=False, workspace=workspace) as tom:\n",
    "    tom.add_translation(language = 'fr-FR')"
   ]
  },
  {
   "cell_type": "markdown",
   "id": "245349fd-b35b-4423-85e9-2f04c8fc4a48",
   "metadata": {
    "microsoft": {
     "language": "python",
     "language_group": "synapse_pyspark"
    },
    "nteract": {
     "transient": {
      "deleting": false
     }
    }
   },
   "source": [
    "## Example of translating the Products table into Product:"
   ]
  },
  {
   "cell_type": "code",
   "execution_count": null,
   "id": "c81e4862-ab85-462a-90c9-c7b479d6fff5",
   "metadata": {
    "jupyter": {
     "outputs_hidden": false,
     "source_hidden": false
    },
    "microsoft": {
     "language": "python",
     "language_group": "synapse_pyspark"
    },
    "nteract": {
     "transient": {
      "deleting": false
     }
    }
   },
   "outputs": [],
   "source": [
    "with connect_semantic_model(dataset=dataset, readonly=False, workspace=workspace) as tom:\n",
    "    tom.set_translation(object = tom.model.Tables['Products'], language = 'fr-FR', property = 'Name', value = 'Produit')"
   ]
  },
  {
   "cell_type": "markdown",
   "id": "ae4063de-17f0-45be-9e46-6a4e051086ab",
   "metadata": {
    "nteract": {
     "transient": {
      "deleting": false
     }
    }
   },
   "source": [
    "## Translation of the entire semantic model"
   ]
  },
  {
   "cell_type": "code",
   "execution_count": null,
   "id": "580c885c-eebb-473a-a865-338e9687f2ae",
   "metadata": {
    "jupyter": {
     "outputs_hidden": false,
     "source_hidden": false
    },
    "microsoft": {
     "language": "python",
     "language_group": "synapse_pyspark"
    },
    "nteract": {
     "transient": {
      "deleting": false
     }
    }
   },
   "outputs": [],
   "source": [
    "labs.translate_semantic_model (dataset=dataset, workspace=workspace, languages= 'fr-FR')"
   ]
  }
 ],
 "metadata": {
  "dependencies": {
   "lakehouse": {
    "default_lakehouse": "3d59019f-91f4-4e3f-9145-de1c38731407",
    "default_lakehouse_name": "lakehouse_silver",
    "default_lakehouse_workspace_id": "a5be6b71-1e6a-48c5-bcf7-22fc2210a9d6"
   }
  },
  "kernel_info": {
   "name": "synapse_pyspark"
  },
  "kernelspec": {
   "display_name": "Synapse PySpark",
   "language": "Python",
   "name": "synapse_pyspark"
  },
  "language_info": {
   "name": "python"
  },
  "microsoft": {
   "language": "python",
   "language_group": "synapse_pyspark",
   "ms_spell_check": {
    "ms_spell_check_language": "en"
   }
  },
  "notebook_environment": {},
  "nteract": {
   "version": "nteract-front-end@1.0.0"
  },
  "save_output": true,
  "spark_compute": {
   "compute_id": "/trident/default",
   "session_options": {
    "conf": {},
    "enableDebugMode": false
   }
  },
  "synapse_widget": {
   "state": {},
   "version": "0.1"
  },
  "widgets": {}
 },
 "nbformat": 4,
 "nbformat_minor": 5
}
